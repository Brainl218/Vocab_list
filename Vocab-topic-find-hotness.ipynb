{
 "cells": [
  {
   "cell_type": "code",
   "execution_count": 6,
   "metadata": {},
   "outputs": [],
   "source": [
    "#!pip install tqdm\n",
    "#!pip install pandas\n",
    "#!pip install selenium\n",
    "\n",
    "from selenium import webdriver\n",
    "from tqdm.notebook import tqdm\n",
    "import pandas as pd\n",
    "import os\n",
    "import re\n",
    "import time"
   ]
  },
  {
   "cell_type": "code",
   "execution_count": 7,
   "metadata": {},
   "outputs": [
    {
     "name": "stdout",
     "output_type": "stream",
     "text": [
      "Input the topic(e.g: animals) to convert: aircraft\n"
     ]
    }
   ],
   "source": [
    "FOLDER_PATH = \"./vocab/\"\n",
    "FILENAME = input(\"Input the topic(e.g: animals) to convert: \")\n",
    "\n",
    "FILE_PATH = FOLDER_PATH + FILENAME + \".csv\"\n",
    "df = pd.read_csv(FILE_PATH)"
   ]
  },
  {
   "cell_type": "code",
   "execution_count": 9,
   "metadata": {
    "scrolled": false
   },
   "outputs": [
    {
     "name": "stdout",
     "output_type": "stream",
     "text": [
      "Processing file aircraft\n"
     ]
    },
    {
     "data": {
      "application/vnd.jupyter.widget-view+json": {
       "model_id": "f45038ff744e4de9b969637d49420e60",
       "version_major": 2,
       "version_minor": 0
      },
      "text/plain": [
       "HBox(children=(FloatProgress(value=0.0, max=10.0), HTML(value='')))"
      ]
     },
     "metadata": {},
     "output_type": "display_data"
    },
    {
     "name": "stdout",
     "output_type": "stream",
     "text": [
      "\n",
      "Saved csv in path: D:\\Download\\vocab project\\vocab_w_hotness\\aircraft.csv\n"
     ]
    }
   ],
   "source": [
    "DRIVER_PATH = './chromedriver.exe'\n",
    "driver = webdriver.Chrome(executable_path=DRIVER_PATH)\n",
    "\n",
    "url = \"https://www.google.com/search?q=\"\n",
    "\n",
    "print(\"Processing file \" + FILENAME)\n",
    "vocab_hotness_list = []\n",
    "for query in tqdm(df.vocab):\n",
    "    query_url = url + query\n",
    "    driver.get(query_url)\n",
    "\n",
    "    result_tag = driver.find_element_by_xpath(\"//div[@id='result-stats']\")\n",
    "    result = result_tag.text\n",
    "\n",
    "    num = re.findall(\"[,\\d]+\", result)\n",
    "    num = int(re.sub(\",\", \"\", num[0]))\n",
    "    #print(f\"{query}: {num}\")\n",
    "    vocab_hotness_list.append((query, num))\n",
    "    time.sleep(1)\n",
    "    \n",
    "assert len(df.vocab) == len(vocab_hotness_list)\n",
    "vocab_hotness_list = sorted(vocab_hotness_list, key=lambda x: x[1], reverse=True)\n",
    "df_new = pd.DataFrame(vocab_hotness_list, columns=[\"vocab\", \"hotness\"])\n",
    "\n",
    "if not os.path.isdir(\"./vocab_w_hotness/\"):\n",
    "    os.mkdir(\"./vocab_w_hotness/\")\n",
    "\n",
    "df_new.to_csv(\"./vocab_w_hotness/\" + FILENAME + \".csv\", index=False)\n",
    "print(\"Saved csv in path: \" + os.path.abspath(\"./vocab_w_hotness/\" + FILENAME + \".csv\"))"
   ]
  },
  {
   "cell_type": "code",
   "execution_count": null,
   "metadata": {},
   "outputs": [],
   "source": []
  }
 ],
 "metadata": {
  "kernelspec": {
   "display_name": "Python 3",
   "language": "python",
   "name": "python3"
  },
  "language_info": {
   "codemirror_mode": {
    "name": "ipython",
    "version": 3
   },
   "file_extension": ".py",
   "mimetype": "text/x-python",
   "name": "python",
   "nbconvert_exporter": "python",
   "pygments_lexer": "ipython3",
   "version": "3.7.4"
  }
 },
 "nbformat": 4,
 "nbformat_minor": 2
}
