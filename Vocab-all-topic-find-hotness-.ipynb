{
 "cells": [
  {
   "cell_type": "code",
   "execution_count": 1,
   "metadata": {},
   "outputs": [],
   "source": [
    "#!pip install tqdm\n",
    "#!pip install pandas\n",
    "#!pip install selenium\n",
    "\n",
    "from selenium import webdriver\n",
    "from tqdm import tqdm\n",
    "import pandas as pd\n",
    "import os\n",
    "import re\n",
    "import time\n",
    "import sys\n",
    "\n",
    "DRIVER_PATH = './chromedriver.exe'\n",
    "driver = webdriver.Chrome(executable_path=DRIVER_PATH)\n",
    "\n",
    "url = \"https://www.google.com/search?q=\""
   ]
  },
  {
   "cell_type": "code",
   "execution_count": null,
   "metadata": {
    "scrolled": false
   },
   "outputs": [
    {
     "name": "stdout",
     "output_type": "stream",
     "text": [
      "processing: buildings_in_the_city.csv:  11%|█▏        | 24/209 [17:27<3:56:36, 76.74s/it]       "
     ]
    }
   ],
   "source": [
    "FOLDER_PATH = \"./vocab/\"\n",
    "EXPORT_PATH = \"./vocab_w_hotness/\"\n",
    "\n",
    "FILENAMES = os.listdir(FOLDER_PATH)\n",
    "with tqdm(total=len(FILENAMES), file=sys.stdout) as pbar:\n",
    "    for file in FILENAMES:\n",
    "        pbar.set_description('processing: ' + file)\n",
    "        if file.endswith(\".csv\"):\n",
    "            if not os.path.isfile(os.path.join(EXPORT_PATH, file)):\n",
    "                FILE_PATH = os.path.join(FOLDER_PATH, file)\n",
    "\n",
    "                df = pd.read_csv(FILE_PATH)\n",
    "\n",
    "                vocab_hotness_list = []\n",
    "                for query in df.vocab:\n",
    "                    while True:\n",
    "                        try:\n",
    "                            query_url = url + query\n",
    "                            driver.get(query_url)\n",
    "\n",
    "                            result_tag = driver.find_element_by_xpath(\"//div[@id='result-stats']\")\n",
    "                            result = result_tag.text\n",
    "\n",
    "                            num = re.findall(\"[,\\d]+\", result)\n",
    "                            num = int(re.sub(\",\", \"\", num[0]))\n",
    "                            #print(f\"{query}: {num}\")\n",
    "                            vocab_hotness_list.append((query, num))\n",
    "                        except:\n",
    "                            time.sleep(100)\n",
    "                            continue\n",
    "                        break\n",
    "\n",
    "                assert len(df.vocab) == len(vocab_hotness_list)\n",
    "                vocab_hotness_list = sorted(vocab_hotness_list, key=lambda x: x[1], reverse=True)\n",
    "                df_new = pd.DataFrame(vocab_hotness_list, columns=[\"vocab\", \"hotness\"])\n",
    "\n",
    "                if not os.path.isdir(EXPORT_PATH):\n",
    "                    os.mkdir(EXPORT_PATH)\n",
    "\n",
    "                df_new.to_csv(EXPORT_PATH + file, index=False)\n",
    "            pbar.update(1)\n",
    "                        \n",
    "print(\"Saved all csv in path: \" + os.path.abspath(EXPORT_PATH))"
   ]
  },
  {
   "cell_type": "code",
   "execution_count": null,
   "metadata": {},
   "outputs": [],
   "source": [
    "movie theater"
   ]
  }
 ],
 "metadata": {
  "kernelspec": {
   "display_name": "Python 3",
   "language": "python",
   "name": "python3"
  },
  "language_info": {
   "codemirror_mode": {
    "name": "ipython",
    "version": 3
   },
   "file_extension": ".py",
   "mimetype": "text/x-python",
   "name": "python",
   "nbconvert_exporter": "python",
   "pygments_lexer": "ipython3",
   "version": "3.7.4"
  }
 },
 "nbformat": 4,
 "nbformat_minor": 2
}
